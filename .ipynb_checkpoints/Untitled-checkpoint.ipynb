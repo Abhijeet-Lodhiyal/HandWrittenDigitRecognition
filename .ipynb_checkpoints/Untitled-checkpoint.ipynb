{
 "cells": [
  {
   "cell_type": "code",
   "execution_count": 2,
   "id": "38e47706-dd7f-4b58-b6f1-87963d7e1460",
   "metadata": {},
   "outputs": [],
   "source": [
    "import numpy as np\n",
    "from keras.datasets import mnist\n",
    "import matplotlib.pyplot as plt\n",
    "from sklearn.model_selection import train_test_split"
   ]
  },
  {
   "cell_type": "code",
   "execution_count": 3,
   "id": "9cfc0971-3f90-4d17-b139-efc37662ee16",
   "metadata": {},
   "outputs": [
    {
     "name": "stdout",
     "output_type": "stream",
     "text": [
      "Downloading data from https://storage.googleapis.com/tensorflow/tf-keras-datasets/mnist.npz\n",
      "\u001b[1m11490434/11490434\u001b[0m \u001b[32m━━━━━━━━━━━━━━━━━━━━\u001b[0m\u001b[37m\u001b[0m \u001b[1m2s\u001b[0m 0us/step\n"
     ]
    }
   ],
   "source": [
    "(x_train_inp , y_train_inp ), (x_test_inp , y_test_inp)  = mnist.load_data()\n",
    "x_train_inp = x_train_inp/255.0\n",
    "converted_ans = []"
   ]
  },
  {
   "cell_type": "code",
   "execution_count": 4,
   "id": "931b14b3-96c6-4df9-9756-2968cc293f65",
   "metadata": {},
   "outputs": [],
   "source": [
    "for i in range(len(y_train_inp)):\n",
    "        ans = np.zeros(10)\n",
    "        ans[y_train_inp[i]] = 1\n",
    "        converted_ans.append(ans)"
   ]
  },
  {
   "cell_type": "code",
   "execution_count": 5,
   "id": "ceb5bb61-f648-41be-b4b3-75ac1bf81e40",
   "metadata": {},
   "outputs": [],
   "source": [
    "x_train , x_test , y_train , y_test = train_test_split(x_train_inp,converted_ans,test_size = 0.35,shuffle  = True)"
   ]
  },
  {
   "cell_type": "code",
   "execution_count": 33,
   "id": "f5818187-0e2f-47dd-9e18-ebbd51f46b59",
   "metadata": {},
   "outputs": [],
   "source": [
    "class DigitModel:\n",
    "    total_layers = []\n",
    "    output_layers = []\n",
    "    learning_rate = 0.0\n",
    "    def __init__(self,lr):\n",
    "        self.total_layers = []\n",
    "        self.learning_rate = lr\n",
    "    \n",
    "    def add_layer(self,size_of_input_layer,number_of_neurons):\n",
    "        weights_layer = np.random.randn(size_of_input_layer , number_of_neurons) \n",
    "        weights_layer = np.transpose(weights_layer)\n",
    "        self.total_layers.append(weights_layer)\n",
    "        \n",
    "    def activation_sigmoid(self,x):\n",
    "        return 1/(1 + np.exp(-x))\n",
    "\n",
    "    def sigmoid_der(self,x):\n",
    "        return (1 - x ) * x\n",
    "\n",
    "    def loss_function(self,real, predict):\n",
    "        sum = np.sum((real - predict) ** 2)\n",
    "        return sum\n",
    "\n",
    "    def predict_final(self,final_out):\n",
    "        max = -1000\n",
    "        index = -1\n",
    "        for i in range(0,10):\n",
    "            if (final_out[i] > max):\n",
    "                max = final_out[i]\n",
    "                index = i\n",
    "        return index\n",
    "\n",
    "    def predict_output(self,input_arr):\n",
    "        prev = input_arr\n",
    "        for layer in self.total_layers:\n",
    "            prev = self.activation_sigmoid(np.dot(layer,prev))\n",
    "            self.output_layers.append(prev)\n",
    "        if (self.output_layers[-1].sum() != 0.0 and self.output_layers[-1].min() != 0 ):\n",
    "            self.output_layers[-1] = self.output_layers[-1]/self.output_layers[-1].min()\n",
    "            self.output_layers[-1] = self.output_layers[-1]/self.output_layers[-1].sum() \n",
    "        # hl_output = activation_sigmoid(np.dot(weights_ip,input_arr))\n",
    "        # hl_output2 = activation_sigmoid(np.dot(weights_hl,hl_output))\n",
    "        # final_output = activation_sigmoid(np.dot(weights_op,hl_output2))\n",
    "        # if(final_output.sum() != 0.0 and final_output.min() != 0):\n",
    "        #     final_output = final_output/final_output.min()\n",
    "        #     final_output = final_output/final_output.sum()   \n",
    "        # return output_layers[-1] \n",
    "    def backpropagation(self,input_data ,expected_output):\n",
    "        self.output_layers.insert(0,input_data)\n",
    "        # change_op = 2 * (output_layers[-1] - expected_output) * sigmoid_der(output_layers[-1])  # row wise multiply by *\n",
    "        # weight_op_update = learning_rate * np.outer(change_op, hl_output2)    # every number multiplied by every other number in other array\n",
    "        # total_layers[-1] -= weight_op_update\n",
    "        prev = []\n",
    "        for i in range(len(self.output_layers)-1,0,-1):\n",
    "             if len(self.output_layers)-1 == i:\n",
    "                change = 2*(self.output_layers[i]-expected_output) * self.sigmoid_der(self.output_layers[i])\n",
    "                weight_op_update = self.learning_rate * np.outer(change, self.output_layers[i-1])\n",
    "                self.total_layers[i-1] -= weight_op_update\n",
    "             else:\n",
    "                 change = np.dot(prev,self.total_layers[i])*self.sigmoid_der(self.output_layers[i])\n",
    "                 weight_hl_update = self.learning_rate * np.outer(change,self.output_layers[i-1])\n",
    "                 # print(i)\n",
    "                 self.total_layers[i-1] -= weight_hl_update\n",
    "             prev = change\n",
    "        # change_hl = np.dot(change_op, weights_op) * sigmoid_der(hl_output2)\n",
    "        # weight_hl_update = learning_rate * np.outer(change_hl,hl_output)\n",
    "        # weights_hl -= weight_hl_update\n",
    "        # change_ip = np.dot(change_hl, weights_hl) * sigmoid_der(hl_output)\n",
    "        # weight_ip_update = learning_rate * np.outer(change_ip, input_data)\n",
    "        # weights_ip -= weight_ip_update\n",
    "    def fit(self,epochs):\n",
    "        print(self.learning_rate)\n",
    "        count = 0\n",
    "        total = 0\n",
    "        for i in range(epochs):\n",
    "            ec = 0\n",
    "            et = 0\n",
    "            loss_sum = 0\n",
    "            for j in range(len(x_train)):\n",
    "                input_arr = np.reshape(x_train[j],784)\n",
    "                self.predict_output(input_arr)\n",
    "                loss_sum += self.loss_function(self.output_layers[-1],y_train[j])\n",
    "                if(self.predict_final(self.output_layers[-1]) == self.predict_final(y_train[j])):\n",
    "                    count = count + 1\n",
    "                    ec = ec + 1\n",
    "                self.backpropagation(input_arr,y_train[j])\n",
    "                self.output_layers = []\n",
    "                total = total + 1\n",
    "                et = et + 1\n",
    "            print(\"Epoch Loss : \",loss_sum/len(x_train))\n",
    "            print(\"Epoch Accuracy : \", (ec/et)*100.0)\n",
    "        accuracy = (count / total) * 100.0 \n",
    "        print(\"Final accuracy : \",accuracy)\n",
    "    def evaluate(self):\n",
    "        count = 0\n",
    "        loss_sum = 0\n",
    "        total = 0\n",
    "        for j in range(len(x_test)):\n",
    "                input_arr = np.reshape(x_test[j],784)\n",
    "                predict_output(input_arr)\n",
    "                loss_sum += loss_function(self.output_layers[-1],y_test[j])\n",
    "                if(self.predict_final(self.output_layers[-1]) == self.predict_final(y_test[j])):\n",
    "                    count = count + 1\n",
    "                self.output_layers = []\n",
    "                total = total + 1\n",
    "        print(\"Loss : \",loss_sum/len(x_test))\n",
    "        accuracy = (count / total) * 100.0 \n",
    "        print(\"Accuracy : \",accuracy)"
   ]
  },
  {
   "cell_type": "code",
   "execution_count": 34,
   "id": "1af5d0bf-01c4-47bc-9077-f503eb4b433d",
   "metadata": {},
   "outputs": [],
   "source": [
    "digits = DigitModel(0.01)\n",
    "\n",
    "digits.add_layer(784,100)\n",
    "digits.add_layer(100,100)\n",
    "digits.add_layer(100,10)\n"
   ]
  },
  {
   "cell_type": "code",
   "execution_count": 35,
   "id": "55c517cd-69de-4180-ba39-233696a1ad20",
   "metadata": {},
   "outputs": [
    {
     "name": "stdout",
     "output_type": "stream",
     "text": [
      "Loss :  0.9571860898284758\n",
      "Loss :  0.9571860898284758\n",
      "Loss :  0.9571860898284758\n",
      "Loss :  0.9571860898284758\n",
      "Loss :  0.9571860898284758\n",
      "Loss :  0.9571860898284758\n",
      "Loss :  0.9571860898284758\n"
     ]
    },
    {
     "ename": "KeyboardInterrupt",
     "evalue": "",
     "output_type": "error",
     "traceback": [
      "\u001b[1;31m---------------------------------------------------------------------------\u001b[0m",
      "\u001b[1;31mKeyboardInterrupt\u001b[0m                         Traceback (most recent call last)",
      "Cell \u001b[1;32mIn[35], line 1\u001b[0m\n\u001b[1;32m----> 1\u001b[0m \u001b[43mdigits\u001b[49m\u001b[38;5;241;43m.\u001b[39;49m\u001b[43mfit\u001b[49m\u001b[43m(\u001b[49m\u001b[38;5;241;43m50\u001b[39;49m\u001b[43m)\u001b[49m\n",
      "Cell \u001b[1;32mIn[33], line 78\u001b[0m, in \u001b[0;36mDigitModel.fit\u001b[1;34m(self, epochs)\u001b[0m\n\u001b[0;32m     76\u001b[0m \u001b[38;5;28;01mfor\u001b[39;00m j \u001b[38;5;129;01min\u001b[39;00m \u001b[38;5;28mrange\u001b[39m(\u001b[38;5;28mlen\u001b[39m(x_train)):\n\u001b[0;32m     77\u001b[0m     input_arr \u001b[38;5;241m=\u001b[39m np\u001b[38;5;241m.\u001b[39mreshape(x_train[j],\u001b[38;5;241m784\u001b[39m)\n\u001b[1;32m---> 78\u001b[0m     \u001b[38;5;28;43mself\u001b[39;49m\u001b[38;5;241;43m.\u001b[39;49m\u001b[43mpredict_output\u001b[49m\u001b[43m(\u001b[49m\u001b[43minput_arr\u001b[49m\u001b[43m)\u001b[49m\n\u001b[0;32m     79\u001b[0m     loss_sum \u001b[38;5;241m+\u001b[39m\u001b[38;5;241m=\u001b[39m \u001b[38;5;28mself\u001b[39m\u001b[38;5;241m.\u001b[39mloss_function(\u001b[38;5;28mself\u001b[39m\u001b[38;5;241m.\u001b[39moutput_layers[\u001b[38;5;241m-\u001b[39m\u001b[38;5;241m1\u001b[39m],y_train[j])\n\u001b[0;32m     80\u001b[0m     \u001b[38;5;28;01mif\u001b[39;00m(\u001b[38;5;28mself\u001b[39m\u001b[38;5;241m.\u001b[39mpredict_final(\u001b[38;5;28mself\u001b[39m\u001b[38;5;241m.\u001b[39moutput_layers[\u001b[38;5;241m-\u001b[39m\u001b[38;5;241m1\u001b[39m]) \u001b[38;5;241m==\u001b[39m \u001b[38;5;28mself\u001b[39m\u001b[38;5;241m.\u001b[39mpredict_final(y_train[j])):\n",
      "Cell \u001b[1;32mIn[33], line 36\u001b[0m, in \u001b[0;36mDigitModel.predict_output\u001b[1;34m(self, input_arr)\u001b[0m\n\u001b[0;32m     34\u001b[0m prev \u001b[38;5;241m=\u001b[39m input_arr\n\u001b[0;32m     35\u001b[0m \u001b[38;5;28;01mfor\u001b[39;00m layer \u001b[38;5;129;01min\u001b[39;00m \u001b[38;5;28mself\u001b[39m\u001b[38;5;241m.\u001b[39mtotal_layers:\n\u001b[1;32m---> 36\u001b[0m     prev \u001b[38;5;241m=\u001b[39m \u001b[38;5;28mself\u001b[39m\u001b[38;5;241m.\u001b[39mactivation_sigmoid(\u001b[43mnp\u001b[49m\u001b[38;5;241;43m.\u001b[39;49m\u001b[43mdot\u001b[49m\u001b[43m(\u001b[49m\u001b[43mlayer\u001b[49m\u001b[43m,\u001b[49m\u001b[43mprev\u001b[49m\u001b[43m)\u001b[49m)\n\u001b[0;32m     37\u001b[0m     \u001b[38;5;28mself\u001b[39m\u001b[38;5;241m.\u001b[39moutput_layers\u001b[38;5;241m.\u001b[39mappend(prev)\n\u001b[0;32m     38\u001b[0m \u001b[38;5;28;01mif\u001b[39;00m (\u001b[38;5;28mself\u001b[39m\u001b[38;5;241m.\u001b[39moutput_layers[\u001b[38;5;241m-\u001b[39m\u001b[38;5;241m1\u001b[39m]\u001b[38;5;241m.\u001b[39msum() \u001b[38;5;241m!=\u001b[39m \u001b[38;5;241m0.0\u001b[39m \u001b[38;5;129;01mand\u001b[39;00m \u001b[38;5;28mself\u001b[39m\u001b[38;5;241m.\u001b[39moutput_layers[\u001b[38;5;241m-\u001b[39m\u001b[38;5;241m1\u001b[39m]\u001b[38;5;241m.\u001b[39mmin() \u001b[38;5;241m!=\u001b[39m \u001b[38;5;241m0\u001b[39m ):\n",
      "\u001b[1;31mKeyboardInterrupt\u001b[0m: "
     ]
    }
   ],
   "source": [
    "digits.fit(50)"
   ]
  },
  {
   "cell_type": "code",
   "execution_count": null,
   "id": "0d61368a-bbb5-45a2-b4e7-ecd162f9a60b",
   "metadata": {},
   "outputs": [],
   "source": [
    "digits.evaluate()"
   ]
  },
  {
   "cell_type": "code",
   "execution_count": null,
   "id": "62e6a107-152d-4d18-9c33-230af9d34b80",
   "metadata": {},
   "outputs": [],
   "source": []
  },
  {
   "cell_type": "code",
   "execution_count": null,
   "id": "c76eb3ed-e9af-45ec-9ce4-c382aaa49902",
   "metadata": {},
   "outputs": [],
   "source": []
  },
  {
   "cell_type": "code",
   "execution_count": null,
   "id": "ab0f3115-ed26-40a7-bcd4-3cfb31eddab1",
   "metadata": {},
   "outputs": [],
   "source": []
  },
  {
   "cell_type": "code",
   "execution_count": null,
   "id": "bb6639c6-a16e-4277-b35f-654263c3a7c0",
   "metadata": {},
   "outputs": [],
   "source": []
  },
  {
   "cell_type": "code",
   "execution_count": null,
   "id": "c392aa37-dd3d-4c22-8846-241eb17933a5",
   "metadata": {},
   "outputs": [],
   "source": []
  }
 ],
 "metadata": {
  "kernelspec": {
   "display_name": "Python 3 (ipykernel)",
   "language": "python",
   "name": "python3"
  },
  "language_info": {
   "codemirror_mode": {
    "name": "ipython",
    "version": 3
   },
   "file_extension": ".py",
   "mimetype": "text/x-python",
   "name": "python",
   "nbconvert_exporter": "python",
   "pygments_lexer": "ipython3",
   "version": "3.12.2"
  }
 },
 "nbformat": 4,
 "nbformat_minor": 5
}
